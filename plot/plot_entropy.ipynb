{
 "cells": [
  {
   "cell_type": "code",
   "execution_count": null,
   "metadata": {},
   "outputs": [],
   "source": [
    "import pandas as pd\n",
    "import pickle"
   ]
  },
  {
   "cell_type": "code",
   "execution_count": null,
   "metadata": {},
   "outputs": [],
   "source": [
    "with open('../out/eval/eval/kangaroo_logic_blend_entropies.pkl', 'rb') as f:\n",
    "    kangaroo_logic_ents = pickle.load(f)[0]\n",
    "    \n",
    "with open('../out/eval/eval/kangaroo_neural_blend_entropies.pkl', 'rb') as f:\n",
    "    kangaroo_neural_ents = pickle.load(f)[0]\n",
    "    \n",
    "with open('../out/eval/eval/seaquest_logic_blend_entropies.pkl', 'rb') as f:\n",
    "    seaquest_logic_ents = pickle.load(f)[0]\n",
    "    \n",
    "with open('../out/eval/eval/seaquest_neural_blend_entropies.pkl', 'rb') as f:\n",
    "    seaquest_neural_ents = pickle.load(f)[0]\n",
    "    "
   ]
  },
  {
   "cell_type": "code",
   "execution_count": null,
   "metadata": {},
   "outputs": [],
   "source": [
    "data_all = []\n",
    "for x in kangaroo_logic_ents:\n",
    "    data = ['kangaroo', 'logic', x]\n",
    "    data_all.append(data)\n",
    "    \n",
    "for x in kangaroo_neural_ents:\n",
    "    data = ['kangaroo', 'neural', x]\n",
    "    data_all.append(data)\n",
    "    \n",
    "for x in seaquest_logic_ents:\n",
    "    data = ['seaquest', 'logic', x]\n",
    "    data_all.append(data)\n",
    "    \n",
    "for x in seaquest_neural_ents:\n",
    "    data = ['seaquest', 'neural', x]\n",
    "    data_all.append(data)\n",
    "    \n",
    "df =  pd.DataFrame(data_all, columns=['environment', 'blending type', 'entropy'])"
   ]
  },
  {
   "cell_type": "code",
   "execution_count": null,
   "metadata": {},
   "outputs": [],
   "source": [
    "import seaborn as sns\n",
    "import matplotlib.pyplot as plt\n",
    "plt.style.use('default')\n",
    "sns.set()\n",
    "sns.set_style(\"whitegrid\", {'grid.linestyle': '--'})\n",
    "fig, ax = plt.subplots(figsize=(4, 3.5))\n",
    "\n",
    "sns.barplot(data=df, x=\"environment\", y=\"entropy\", hue=\"blending type\", palette=[\"dodgerblue\", \"hotpink\"])\n",
    "\n",
    "# タイトルとラベルのフォントサイズ設定\n",
    "ax.set_title(\"Entropies over Blending Weights\", fontsize=20)\n",
    "ax.set_xlabel(\"Environment\", fontsize=20)\n",
    "ax.set_ylabel(\"Entropy\", fontsize=18)\n",
    "ax.set_xticklabels(ax.get_xticklabels(), fontsize=18)\n",
    "# ax.set_yticklabels(ax.get_yticklabels(), fontsize=10)\n",
    "\n",
    "ax.legend(fontsize=15)\n",
    "\n",
    "plt.tight_layout()\n",
    "plt.savefig(\"figures/blend_entropies.pdf\", bbox_inches='tight')"
   ]
  }
 ],
 "metadata": {
  "kernelspec": {
   "display_name": "Python 3",
   "language": "python",
   "name": "python3"
  },
  "language_info": {
   "codemirror_mode": {
    "name": "ipython",
    "version": 3
   },
   "file_extension": ".py",
   "mimetype": "text/x-python",
   "name": "python",
   "nbconvert_exporter": "python",
   "pygments_lexer": "ipython3",
   "version": "3.8.7"
  }
 },
 "nbformat": 4,
 "nbformat_minor": 2
}
