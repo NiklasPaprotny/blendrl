{
 "cells": [
  {
   "cell_type": "code",
   "execution_count": null,
   "metadata": {},
   "outputs": [],
   "source": [
    "from load_data import *\n",
    "import matplotlib.pyplot as plt\n",
    "import seaborn as sns"
   ]
  },
  {
   "cell_type": "code",
   "execution_count": null,
   "metadata": {},
   "outputs": [],
   "source": [
    "C0 = \"limegreen\"\n",
    "C1 = \"dodgerblue\"\n",
    "C2 = \"deeppink\"\n",
    "\n",
    "plt.style.use('default')\n",
    "sns.set()\n",
    "sns.set_style(\"whitegrid\", {'grid.linestyle': '--'})\n",
    "sns.set_palette('Set1')\n",
    "\n",
    "# fig=plt.figure(figsize=(12,3))\n",
    "# ax=fig.add_subplot(00, label=\"1\")\n",
    "fig, axes = plt.subplots(1, 3, figsize=(12, 3), sharey=False)\n",
    "\n",
    "\n",
    "### Kangaroo\n",
    "mean, std = load_data(env_name=\"kangaroo\", model=\"blendrl\", max_episodes=15000)\n",
    "nudge_mean, nudge_std = load_data(env_name=\"kangaroo\", model=\"nudge\", max_episodes=15000)\n",
    "ppo_mean, ppo_std = load_data(env_name=\"kangaroo\", model=\"neuralppo\", max_episodes=15000)\n",
    "\n",
    "axes[0].set_title(\"episodic returns (Kangaroo)\", fontsize=13)\n",
    "axes[0].set_xlabel(\"episode\")\n",
    "axes[0].set_ylabel(\"return\")\n",
    "axes[0].plot(mean.index, mean, color=C0, label=\"BlendRL\")\n",
    "axes[0].fill_between(std.index, mean - 2 * std, mean + 2 * std, color=C0, alpha=0.2)\n",
    "axes[0].plot(nudge_mean.index, nudge_mean, color=C1, label=\"NUDGE\")\n",
    "axes[0].fill_between(nudge_std.index, nudge_mean - 2 * nudge_std, nudge_mean + 2 * nudge_std, color=C1, alpha=0.2)\n",
    "axes[0].plot(ppo_mean.index, ppo_mean, color=C2, label=\"NeuralPPO\")\n",
    "axes[0].fill_between(ppo_std.index, ppo_mean - 2 * ppo_std, ppo_mean + 2 * ppo_std, color=C2, alpha=0.1)\n",
    "\n",
    "\n",
    "### Seaquest\n",
    "mean, std = load_data(env_name=\"seaquest\", model=\"blendrl\")\n",
    "nudge_mean, nudge_std = load_data(env_name=\"seaquest\", model=\"nudge\")\n",
    "ppo_mean, ppo_std = load_data(env_name=\"seaquest\", model=\"neuralppo\")\n",
    "\n",
    "axes[1].set_title(\"episodic returns (Seaquest)\", fontsize=13)\n",
    "axes[1].set_xlabel(\"episode\")\n",
    "axes[1].set_ylabel(\"return\")\n",
    "axes[1].plot(mean.index, mean, color=C0, label=\"BlendRL\")\n",
    "axes[1].fill_between(std.index, mean - 2 * std, mean + 2 * std, color=C0, alpha=0.2)\n",
    "axes[1].plot(nudge_mean.index, nudge_mean, color=C1, label=\"NUDGE\")\n",
    "axes[1].fill_between(nudge_std.index, nudge_mean - 2 * nudge_std, nudge_mean + 2 * nudge_std, color=C1, alpha=0.2)\n",
    "axes[1].plot(ppo_mean.index, ppo_mean, color=C2, label=\"NeuralPPO\")\n",
    "axes[1].fill_between(ppo_std.index, ppo_mean - 2 * ppo_std, ppo_mean + 2 * ppo_std, color=C2, alpha=0.1)\n",
    "\n",
    "\n",
    "\n",
    "### Donkeykong\n",
    "mean, std = load_csv(env_name=\"donkeykong\", model=\"blendrl\")\n",
    "nudge_mean, nudge_std = load_csv(env_name=\"donkeykong\", model=\"nudge\")\n",
    "ppo_mean, ppo_std = load_csv(env_name=\"donkeykong\", model=\"neuralppo\")\n",
    "# ppo_mean[:2] = 0\n",
    "axes[2].set_title(\"episodic returns (DonkeyKong)\", fontsize=13)\n",
    "axes[2].set_xlabel(\"episode\")\n",
    "axes[2].set_ylabel(\"return\")\n",
    "axes[2].plot(mean.index, mean, color=C0, label=\"BlendRL\")\n",
    "axes[2].fill_between(std.index, mean - 2 * std, mean + 2 * std, color=C0, alpha=0.2)\n",
    "axes[2].plot(nudge_mean.index, nudge_mean, color=C1, label=\"NUDGE\")\n",
    "axes[2].fill_between(nudge_std.index, nudge_mean - 2 * nudge_std, nudge_mean + 2 * nudge_std, color=C1, alpha=0.2)\n",
    "axes[2].plot(ppo_mean.index, ppo_mean, color=C2, label=\"NeuralPPO\")\n",
    "axes[2].fill_between(ppo_std.index, ppo_mean - 2 * ppo_std, ppo_mean + 2 * ppo_std, color=C2, alpha=0.1)\n",
    "\n",
    "plt.legend(bbox_to_anchor=(1.05, 1), loc='upper left', borderaxespad=0)\n",
    "\n",
    "\n",
    "\n",
    "# plt.legend()\n",
    "\n",
    "plt.tight_layout()\n",
    "# plt.show()\n",
    "plt.savefig(\"figures/returns_all.pdf\", bbox_inches='tight')"
   ]
  },
  {
   "cell_type": "code",
   "execution_count": null,
   "metadata": {},
   "outputs": [],
   "source": []
  },
  {
   "cell_type": "code",
   "execution_count": null,
   "metadata": {},
   "outputs": [],
   "source": []
  }
 ],
 "metadata": {
  "kernelspec": {
   "display_name": "Python 3",
   "language": "python",
   "name": "python3"
  },
  "language_info": {
   "codemirror_mode": {
    "name": "ipython",
    "version": 3
   },
   "file_extension": ".py",
   "mimetype": "text/x-python",
   "name": "python",
   "nbconvert_exporter": "python",
   "pygments_lexer": "ipython3",
   "version": "3.8.7"
  }
 },
 "nbformat": 4,
 "nbformat_minor": 2
}
