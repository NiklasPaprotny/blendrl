{
 "cells": [
  {
   "cell_type": "code",
   "execution_count": null,
   "metadata": {},
   "outputs": [],
   "source": [
    "import pickle\n",
    "import pandas as pd\n",
    "import numpy as np\n",
    "\n",
    "\n",
    "seed = 1\n",
    "env_name = 'kangaroo'\n",
    "\n",
    "with open(f'../stats/{env_name}/weights_seed_{seed}.pkl', 'rb') as f:\n",
    "    weights = pickle.load(f)\n",
    "    \n",
    "with open(f'../stats/{env_name}/action_values_seed_{seed}.pkl', 'rb') as f:\n",
    "    action_values = pickle.load(f)\n",
    "    \n",
    "action_values = np.array(action_values)"
   ]
  },
  {
   "cell_type": "code",
   "execution_count": null,
   "metadata": {},
   "outputs": [],
   "source": [
    "from matplotlib.colors import LinearSegmentedColormap\n",
    "colors = ['hotpink', 'dodgerblue']\n",
    "bluepink_cmap = LinearSegmentedColormap.from_list('bluepink', colors, N=100)"
   ]
  },
  {
   "cell_type": "code",
   "execution_count": null,
   "metadata": {},
   "outputs": [],
   "source": [
    "import torch\n",
    "def build_weight_map(weights):\n",
    "    weights_logic = np.array(weights)[:,1]\n",
    "    weights_logic = torch.tensor(weights_logic)\n",
    "    # normalize for dim=1\n",
    "    weights_logic = weights_logic.unsqueeze(0).expand(50, -1)\n",
    "    weights_logic = torch.softmax(weights_logic, dim=1) \n",
    "    return weights_logic"
   ]
  },
  {
   "cell_type": "code",
   "execution_count": null,
   "metadata": {},
   "outputs": [],
   "source": [
    "import matplotlib.pyplot as plt\n",
    "import seaborn as sns\n",
    "\n",
    "\n",
    "def plot_weights_with_bar(weights, action_values, env_name):\n",
    "    # plt.style.use('default') \n",
    "    C1 = \"dodgerblue\" \n",
    "    C0 = \"deeppink\"\n",
    "\n",
    "    labels = ['neural', 'logic']\n",
    "\n",
    "    action_values = np.array(action_values)\n",
    "    # fig=plt.figure(figsize=(5,3))\n",
    "\n",
    "    fig, (ax2,ax1) = plt.subplots(nrows=2,figsize=(7.5, 3), sharex=True)\n",
    "\n",
    "    ax1.axes.xaxis.set_ticks([])\n",
    "    ax1.axes.yaxis.set_ticks([])\n",
    "    ax1.set_ylabel(\"L / N\", fontsize=14)\n",
    "    sns.set_style(\"white\")\n",
    "    weights_map = build_weight_map(weights)\n",
    "    im = ax1.imshow(weights_map, cmap=bluepink_cmap)\n",
    "\n",
    "    ax2.set_title( f\"{env_name}\".capitalize(), fontsize=20)\n",
    "    ax1.set_xlabel(\"episodic steps\", fontsize=16)\n",
    "    ax2.set_ylabel(\"policy output\", fontsize=14)\n",
    "\n",
    "\n",
    "    # sns.set_pjalette('Set1')\n",
    "    sns.set_style(\"whitegrid\", {'grid.linestyle': '--'})\n",
    "    ax2.plot(action_values[:,0], label=labels[0], alpha=0.6, color=C0)\n",
    "    ax2.plot(action_values[:,1], label=labels[1], alpha=0.99, color=C1)\n",
    "\n",
    "    # cbar = fig.colorbar(im, ax=[ax1,ax2], shrink=0.95)\n",
    "    ax2.legend(loc='upper right', fontsize=12)\n",
    "    plt.tight_layout()\n",
    "    path = f'figures/{env_name}_blender_weights_seed_{seed}.pdf' \n",
    "    plt.savefig(path, bbox_inches='tight')\n",
    "    plt.show()\n",
    "    plt.close()\n"
   ]
  },
  {
   "cell_type": "code",
   "execution_count": null,
   "metadata": {},
   "outputs": [],
   "source": [
    "\n",
    "seeds = [0]#, 1]\n",
    "env_name = 'kangaroo'\n",
    "\n",
    "for seed in seeds:\n",
    "    with open(f'../stats/{env_name}/weights_seed_{seed}.pkl', 'rb') as f:\n",
    "        weights = pickle.load(f)\n",
    "    \n",
    "    with open(f'../stats/{env_name}/action_values_seed_{seed}.pkl', 'rb') as f:\n",
    "        action_values = pickle.load(f)\n",
    "        \n",
    "    plot_weights_with_bar(weights, action_values, env_name)\n",
    "    # plot_action_values(np.array(action_values))\n",
    "    # plot_weights(np.array(weights))"
   ]
  },
  {
   "cell_type": "code",
   "execution_count": null,
   "metadata": {},
   "outputs": [],
   "source": [
    "\n",
    "seeds = [0]\n",
    "env_name = 'seaquest'\n",
    "\n",
    "for seed in seeds:\n",
    "    with open(f'../stats/{env_name}/weights_seed_{seed}.pkl', 'rb') as f:\n",
    "        weights = pickle.load(f)\n",
    "    \n",
    "    with open(f'../stats/{env_name}/action_values_seed_{seed}.pkl', 'rb') as f:\n",
    "        action_values = pickle.load(f)\n",
    "        \n",
    "    plot_weights_with_bar(weights, action_values, env_name)"
   ]
  }
 ],
 "metadata": {
  "kernelspec": {
   "display_name": "Python 3",
   "language": "python",
   "name": "python3"
  },
  "language_info": {
   "codemirror_mode": {
    "name": "ipython",
    "version": 3
   },
   "file_extension": ".py",
   "mimetype": "text/x-python",
   "name": "python",
   "nbconvert_exporter": "python",
   "pygments_lexer": "ipython3",
   "version": "3.8.7"
  }
 },
 "nbformat": 4,
 "nbformat_minor": 2
}
